{
 "cells": [
  {
   "cell_type": "code",
   "execution_count": 1,
   "metadata": {},
   "outputs": [
    {
     "name": "stdout",
     "output_type": "stream",
     "text": [
      "0.9.3\n",
      "0.6.1\n"
     ]
    }
   ],
   "source": [
    "import signac\n",
    "import flow\n",
    "import numpy as np\n",
    "\n",
    "from project import Project\n",
    "print(signac.__version__)\n",
    "print(flow.__version__)"
   ]
  },
  {
   "cell_type": "code",
   "execution_count": 31,
   "metadata": {},
   "outputs": [
    {
     "name": "stdout",
     "output_type": "stream",
     "text": [
      "HelloWorldGA\n",
      "{'generation': 0, 'status': {'cost': True, 'sort': False, 'generate': False}}\n"
     ]
    }
   ],
   "source": [
    "project = Project()\n",
    "print(project)\n",
    "print(project.document)"
   ]
  },
  {
   "cell_type": "code",
   "execution_count": 32,
   "metadata": {},
   "outputs": [
    {
     "name": "stderr",
     "output_type": "stream",
     "text": [
      "Collect job status info: 100%|██████████| 10/10 [00:00<00:00, 361.20it/s]"
     ]
    },
    {
     "name": "stdout",
     "output_type": "stream",
     "text": [
      "# Overview:\n",
      "Total # of jobs: 10\n",
      "\n",
      "label    ratio\n",
      "-------  -------\n",
      "[no labels to show]\n",
      "\n",
      "# Detailed View:\n",
      "job_id                            operation           labels\n",
      "--------------------------------  ------------------  --------\n",
      "698a5af2b35fafa1ec5c7df9cb2a22f5  calcCost       [U]\n",
      "                                  sortGeneration [U]\n",
      "                                  nextGeneration [U]\n",
      "89f593da537a69c4916db47ff559b144  calcCost       [U]\n",
      "                                  sortGeneration [U]\n",
      "                                  nextGeneration [U]\n",
      "59dd0c9d9605296154f8a84de2e8dcc2  calcCost       [U]\n",
      "                                  sortGeneration [U]\n",
      "                                  nextGeneration [U]\n",
      "d8b1540162182cbe74cb914265e0c341  calcCost       [U]\n",
      "                                  sortGeneration [U]\n",
      "                                  nextGeneration [U]\n",
      "a53fd35b5d71b10dd3e27c7c35e426c3  calcCost       [U]\n",
      "                                  sortGeneration [U]\n",
      "                                  nextGeneration [U]\n",
      "8d29bc5eb078a146488029981d7ddc29  calcCost       [U]\n",
      "                                  sortGeneration [U]\n",
      "                                  nextGeneration [U]\n",
      "594cfa116561cb3798feead0495923c8  calcCost       [U]\n",
      "                                  sortGeneration [U]\n",
      "                                  nextGeneration [U]\n",
      "82363c0a8872dbf9bffe3c17a1746ca3  calcCost       [U]\n",
      "                                  sortGeneration [U]\n",
      "                                  nextGeneration [U]\n",
      "c88612566533d851c085fcc2f5c42e4f  calcCost       [U]\n",
      "                                  sortGeneration [U]\n",
      "                                  nextGeneration [U]\n",
      "92b6b0ffdd556b59b3fda71f739aac23  calcCost       [U]\n",
      "                                  sortGeneration [U]\n",
      "                                  nextGeneration [U]\n"
     ]
    },
    {
     "name": "stderr",
     "output_type": "stream",
     "text": [
      "\n"
     ]
    }
   ],
   "source": [
    "project.print_status(detailed=True)"
   ]
  },
  {
   "cell_type": "code",
   "execution_count": 6,
   "metadata": {},
   "outputs": [
    {
     "name": "stdout",
     "output_type": "stream",
     "text": [
      "False\n",
      "True\n",
      "\n",
      "True\n",
      "False\n",
      "\n",
      "False\n",
      "True\n",
      "\n",
      "False\n",
      "True\n",
      "\n",
      "True\n",
      "False\n",
      "\n",
      "True\n",
      "False\n",
      "\n",
      "True\n",
      "False\n",
      "\n",
      "True\n",
      "False\n",
      "\n",
      "True\n",
      "False\n",
      "\n",
      "False\n",
      "True\n",
      "\n",
      "False\n",
      "True\n",
      "\n",
      "True\n",
      "False\n",
      "\n",
      "False\n",
      "True\n",
      "\n",
      "False\n",
      "True\n",
      "\n",
      "False\n",
      "True\n",
      "\n",
      "True\n",
      "False\n",
      "\n",
      "16\n"
     ]
    }
   ],
   "source": [
    "cnt = 0\n",
    "for job in project.find_jobs():\n",
    "    print(isEligible(job))\n",
    "    print(isNotEligible(job))\n",
    "    print()\n",
    "    cnt += 1\n",
    "print(cnt)"
   ]
  },
  {
   "cell_type": "code",
   "execution_count": 5,
   "metadata": {},
   "outputs": [],
   "source": [
    "\n",
    "def isEligible(job):\n",
    "    if 'eligible' in job.document:\n",
    "        if job.document.eligible == True:\n",
    "            return True\n",
    "        else:\n",
    "            return False\n",
    "    else:\n",
    "        return False\n",
    "\n",
    "\n",
    "def isNotEligible(job):\n",
    "    if 'eligible' in job.document:\n",
    "        if job.document.eligible == True:\n",
    "            return False\n",
    "        else:\n",
    "            return True\n",
    "    else:\n",
    "        return False"
   ]
  },
  {
   "cell_type": "code",
   "execution_count": 7,
   "metadata": {},
   "outputs": [
    {
     "name": "stdout",
     "output_type": "stream",
     "text": [
      "{'generation': 1, 'cost': 25, 'rank': 0, 'eligible': True}\n"
     ]
    }
   ],
   "source": [
    "with project.open_job(id=\"a53fd35b5d71b10dd3e27c7c35e426c3\") as job:\n",
    "    print(job.document)"
   ]
  },
  {
   "cell_type": "code",
   "execution_count": null,
   "metadata": {},
   "outputs": [],
   "source": []
  }
 ],
 "metadata": {
  "kernelspec": {
   "display_name": "Python 3",
   "language": "python",
   "name": "python3"
  },
  "language_info": {
   "codemirror_mode": {
    "name": "ipython",
    "version": 3
   },
   "file_extension": ".py",
   "mimetype": "text/x-python",
   "name": "python",
   "nbconvert_exporter": "python",
   "pygments_lexer": "ipython3",
   "version": "3.6.5"
  }
 },
 "nbformat": 4,
 "nbformat_minor": 2
}
